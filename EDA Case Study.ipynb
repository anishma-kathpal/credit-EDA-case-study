{
 "cells": [
  {
   "cell_type": "code",
   "execution_count": null,
   "id": "6168b1b6",
   "metadata": {},
   "outputs": [],
   "source": [
    "#importing all the neccessary libraries\n",
    "\n",
    "import numpy as np\n",
    "import pandas as pd\n",
    "import matplotlib.pyplot as plt\n",
    "import seaborn as sns\n",
    "import plotly.express as px\n",
    "\n",
    "# to suppress warnings\n",
    "\n",
    "import warnings   \n",
    "warnings.filterwarnings(\"ignore\")"
   ]
  },
  {
   "cell_type": "markdown",
   "id": "c0c69bdc",
   "metadata": {},
   "source": [
    "# 1. Reading the Data"
   ]
  },
  {
   "cell_type": "code",
   "execution_count": null,
   "id": "c67cfdde",
   "metadata": {},
   "outputs": [],
   "source": [
    "#read & load application_data.csv: contains all the information of the client at the time of application.\n",
    "#The data is about whether a client has payment difficulties.\n",
    "\n",
    "appdata= pd.read_csv('application_data.csv')\n",
    "appdata.head()"
   ]
  },
  {
   "cell_type": "code",
   "execution_count": null,
   "id": "8326170a",
   "metadata": {},
   "outputs": [],
   "source": [
    "#read & load previous_application.csv: contains information about the client’s previous loan data.\n",
    "#It contains the data whether the previous application had been Approved, Cancelled, Refused or Unused offer.\n",
    "\n",
    "predata= pd.read_csv('previous_application.csv')\n",
    "predata.head()"
   ]
  },
  {
   "cell_type": "markdown",
   "id": "ce55913b",
   "metadata": {},
   "source": [
    "# 2.A. Inspecting the Predata"
   ]
  },
  {
   "cell_type": "code",
   "execution_count": null,
   "id": "fb714833",
   "metadata": {},
   "outputs": [],
   "source": [
    "#Checking the number of rows and columns\n",
    "predata.shape"
   ]
  },
  {
   "cell_type": "code",
   "execution_count": null,
   "id": "2e92e91c",
   "metadata": {
    "scrolled": true
   },
   "outputs": [],
   "source": [
    "#Checking information of all the columns\n",
    "predata.info(verbose=True, null_counts=True)"
   ]
  },
  {
   "cell_type": "code",
   "execution_count": null,
   "id": "cd6a5229",
   "metadata": {
    "scrolled": true
   },
   "outputs": [],
   "source": [
    "#Checking the numeric variables of the dataframes\n",
    "predata.describe()"
   ]
  },
  {
   "cell_type": "markdown",
   "id": "15781bd2",
   "metadata": {},
   "source": [
    "# 2.B. Inspecting the Appdata"
   ]
  },
  {
   "cell_type": "code",
   "execution_count": null,
   "id": "172aff6a",
   "metadata": {},
   "outputs": [],
   "source": [
    "#Checking the number of rows and columns\n",
    "appdata.shape"
   ]
  },
  {
   "cell_type": "code",
   "execution_count": null,
   "id": "e7e36fa9",
   "metadata": {},
   "outputs": [],
   "source": [
    "#Checking information of all the columns\n",
    "appdata.info(verbose=True, null_counts=True)"
   ]
  },
  {
   "cell_type": "code",
   "execution_count": null,
   "id": "41753155",
   "metadata": {},
   "outputs": [],
   "source": [
    "#Checking the numeric variables of the dataframes\n",
    "appdata.describe()"
   ]
  },
  {
   "cell_type": "markdown",
   "id": "3d433260",
   "metadata": {},
   "source": [
    "# 3.A. Data Cleaning & Imputing for Predata"
   ]
  },
  {
   "cell_type": "markdown",
   "id": "dae82ad8",
   "metadata": {},
   "source": [
    "## 3.A.1 Null values more than 50 %"
   ]
  },
  {
   "cell_type": "code",
   "execution_count": null,
   "id": "95a1939a",
   "metadata": {
    "scrolled": true
   },
   "outputs": [],
   "source": [
    "# Finding the percentage of missing values in appdata dataframe\n",
    "pnv = round(predata.isnull().mean()*100,2).sort_values(ascending = False)\n",
    "pnv"
   ]
  },
  {
   "cell_type": "code",
   "execution_count": null,
   "id": "63362306",
   "metadata": {
    "scrolled": true
   },
   "outputs": [],
   "source": [
    "#new dataframe containing columns with null percentage > 50\n",
    "pnv50 = pnv[pnv>50]\n",
    "pnv50"
   ]
  },
  {
   "cell_type": "code",
   "execution_count": null,
   "id": "7d75c830",
   "metadata": {
    "scrolled": true
   },
   "outputs": [],
   "source": [
    "# Displaying columns having missing values more than 50%\n",
    "pnv50.index"
   ]
  },
  {
   "cell_type": "code",
   "execution_count": null,
   "id": "10ffb1c9",
   "metadata": {
    "scrolled": true
   },
   "outputs": [],
   "source": [
    "#Now lets drop all the columns having missing values more than 50% that is 41 columns and storing it in a new dataframe\n",
    "predata.drop(columns = pnv50.index, inplace = True)\n",
    "predata"
   ]
  },
  {
   "cell_type": "markdown",
   "id": "9cf1a356",
   "metadata": {},
   "source": [
    "## 3.A.2 Dropping Unnesseccary columns"
   ]
  },
  {
   "cell_type": "code",
   "execution_count": null,
   "id": "7f5b5bfb",
   "metadata": {},
   "outputs": [],
   "source": [
    "# Listing down columns which are not needed\n",
    "trash = ['WEEKDAY_APPR_PROCESS_START','HOUR_APPR_PROCESS_START','FLAG_LAST_APPL_PER_CONTRACT','NFLAG_LAST_APPL_IN_DAY']\n",
    "\n",
    "predata.drop(trash,axis =1, inplace = True)\n",
    "\n",
    "predata.shape"
   ]
  },
  {
   "cell_type": "markdown",
   "id": "ebb84eea",
   "metadata": {},
   "source": [
    "## 3.A.4 Imputing"
   ]
  },
  {
   "cell_type": "code",
   "execution_count": null,
   "id": "79032a47",
   "metadata": {},
   "outputs": [],
   "source": [
    "# Imputing values \"Unknown\" as this a categorical column\n",
    "predata[\"NAME_TYPE_SUITE\"] = predata[\"NAME_TYPE_SUITE\"].fillna(\"Unknown\")\n",
    "round(predata.isnull().mean()*100,2).sort_values(ascending = False)"
   ]
  },
  {
   "cell_type": "markdown",
   "id": "fd4bec36",
   "metadata": {},
   "source": [
    "**INSIGHTS**\n",
    "\n",
    "There are missing values in columns 'DAYS_FIRST_DUE', 'DAYS_TERMINATION', 'DAYS_FIRST_DRAWING','DAYS_LAST_DUE_1ST_VERSION', 'DAYS_LAST_DUE' and these columns count days thus will keeping null values as they are"
   ]
  },
  {
   "cell_type": "code",
   "execution_count": null,
   "id": "cdab68e9",
   "metadata": {},
   "outputs": [],
   "source": [
    "# To convert negative days to postive days creating a varaible \"p_days_col\"\n",
    "pdays = ['DAYS_DECISION','DAYS_FIRST_DRAWING', 'DAYS_FIRST_DUE', 'DAYS_LAST_DUE_1ST_VERSION', 'DAYS_LAST_DUE', 'DAYS_TERMINATION']\n",
    "\n",
    "# Analysis before conversion\n",
    "predata[pdays].describe()"
   ]
  },
  {
   "cell_type": "code",
   "execution_count": null,
   "id": "826b595a",
   "metadata": {},
   "outputs": [],
   "source": [
    "# Converting Negative days to positive days\n",
    "predata[pdays] = abs(predata[pdays])\n",
    "\n",
    "# analysing after conversion\n",
    "predata[pdays].describe()"
   ]
  },
  {
   "cell_type": "code",
   "execution_count": null,
   "id": "1176dccb",
   "metadata": {},
   "outputs": [],
   "source": [
    "#imputing missing values with median \n",
    "predata['AMT_ANNUITY'].fillna(predata['AMT_ANNUITY'].median(),inplace = True)\n",
    "predata['AMT_ANNUITY']"
   ]
  },
  {
   "cell_type": "code",
   "execution_count": null,
   "id": "ffdf0fd3",
   "metadata": {},
   "outputs": [],
   "source": [
    "# Imputing null values with mode\n",
    "predata['AMT_GOODS_PRICE'].fillna(predata['AMT_GOODS_PRICE'].mode()[0], inplace=True)\n",
    "predata['AMT_GOODS_PRICE']"
   ]
  },
  {
   "cell_type": "code",
   "execution_count": null,
   "id": "7e449d4a",
   "metadata": {
    "scrolled": true
   },
   "outputs": [],
   "source": [
    "#taking out values count for NAME_CONTRACT_STATUS categories where CNT_PAYMENT have null values.\n",
    "predata.loc[predata['CNT_PAYMENT'].isnull(),'NAME_CONTRACT_STATUS'].value_counts()"
   ]
  },
  {
   "cell_type": "code",
   "execution_count": null,
   "id": "923438cc",
   "metadata": {},
   "outputs": [],
   "source": [
    "#imputing null values as 0\n",
    "predata['CNT_PAYMENT'].fillna(0,inplace = True)\n",
    "predata['CNT_PAYMENT'].value_counts()"
   ]
  },
  {
   "cell_type": "markdown",
   "id": "fa7c4b6b",
   "metadata": {},
   "source": [
    "# 3.B. Data Cleaning & Imputing for Appdata"
   ]
  },
  {
   "cell_type": "markdown",
   "id": "f04d5305",
   "metadata": {},
   "source": [
    "## 3.B.1 Null values more than 50 %"
   ]
  },
  {
   "cell_type": "code",
   "execution_count": null,
   "id": "fb4a2700",
   "metadata": {
    "scrolled": true
   },
   "outputs": [],
   "source": [
    "# Finding the percentage of missing values in appdata dataframe\n",
    "anv = round(appdata.isnull().mean()*100,2).sort_values(ascending = False)\n",
    "anv"
   ]
  },
  {
   "cell_type": "code",
   "execution_count": null,
   "id": "7ed4d823",
   "metadata": {
    "scrolled": false
   },
   "outputs": [],
   "source": [
    "#new dataframe containing columns with null percentage > 50\n",
    "anv50 = anv[anv>50]\n",
    "anv50"
   ]
  },
  {
   "cell_type": "code",
   "execution_count": null,
   "id": "385dfac8",
   "metadata": {
    "scrolled": true
   },
   "outputs": [],
   "source": [
    "# Displaying columns having missing values more than 50%\n",
    "anv50.index"
   ]
  },
  {
   "cell_type": "code",
   "execution_count": null,
   "id": "4072766d",
   "metadata": {
    "scrolled": true
   },
   "outputs": [],
   "source": [
    "#Now lets drop all the columns having missing values more than 50% that is 41 columns and storing it in a new dataframe\n",
    "appdata.drop(columns = anv50.index, inplace = True)\n",
    "appdata"
   ]
  },
  {
   "cell_type": "markdown",
   "id": "500385d1",
   "metadata": {},
   "source": [
    "## 3.B.2 Null values more than 14 %"
   ]
  },
  {
   "cell_type": "code",
   "execution_count": null,
   "id": "06986869",
   "metadata": {},
   "outputs": [],
   "source": [
    "nv = round(appdata.isnull().mean()*100,2).sort_values(ascending = False)\n",
    "nv"
   ]
  },
  {
   "cell_type": "code",
   "execution_count": null,
   "id": "b6221833",
   "metadata": {},
   "outputs": [],
   "source": [
    "nv15 = nv[nv>15]\n",
    "nv15"
   ]
  },
  {
   "cell_type": "code",
   "execution_count": null,
   "id": "80127e2b",
   "metadata": {},
   "outputs": [],
   "source": [
    "# removing 'OCCUPATION_TYPE', 'EXT_SOURCE_3' so that we can drop all other at once.\n",
    "nv15.drop([\"OCCUPATION_TYPE\",\"EXT_SOURCE_3\"], inplace = True)\n",
    "nv15"
   ]
  },
  {
   "cell_type": "code",
   "execution_count": null,
   "id": "eda56818",
   "metadata": {},
   "outputs": [],
   "source": [
    "# columns having missing values more than 15% and are not reletable\n",
    "nv15.index"
   ]
  },
  {
   "cell_type": "code",
   "execution_count": null,
   "id": "b4a92d5b",
   "metadata": {},
   "outputs": [],
   "source": [
    "# droping the columns having missing values more than 15% and are not reletable\n",
    "appdata.drop(nv15.index,axis=1, inplace = True)\n",
    "appdata"
   ]
  },
  {
   "cell_type": "code",
   "execution_count": null,
   "id": "0f3bc612",
   "metadata": {},
   "outputs": [],
   "source": [
    "# Checking the % of null values for each column in new dataset\n",
    "null = appdata.isnull().sum()/len(appdata)*100\n",
    "null.sort_values(ascending = False).head(60)"
   ]
  },
  {
   "cell_type": "markdown",
   "id": "4459601a",
   "metadata": {},
   "source": [
    "## 3.B.3 Dropping Unnesseccary columns"
   ]
  },
  {
   "cell_type": "code",
   "execution_count": null,
   "id": "2380a711",
   "metadata": {},
   "outputs": [],
   "source": [
    "#list of columns to be dropped as these columns have no significant value for the analysis\n",
    "flag_columns = [col for col in appdata.columns if \"FLAG\" in col]\n",
    "flag_columns"
   ]
  },
  {
   "cell_type": "code",
   "execution_count": null,
   "id": "feb276d9",
   "metadata": {},
   "outputs": [],
   "source": [
    "appdata.drop(flag_columns, axis = 1, inplace= True)\n",
    "appdata.shape"
   ]
  },
  {
   "cell_type": "markdown",
   "id": "1f14f56f",
   "metadata": {},
   "source": [
    "## 3.B.4 Imputing"
   ]
  },
  {
   "cell_type": "code",
   "execution_count": null,
   "id": "05ce106d",
   "metadata": {},
   "outputs": [],
   "source": [
    "print(appdata.CODE_GENDER.value_counts())\n",
    "# Replacing XNA value with F\n",
    "appdata.loc[appdata.CODE_GENDER == 'XNA','CODE_GENDER'] = 'F'\n",
    "appdata.CODE_GENDER.value_counts()"
   ]
  },
  {
   "cell_type": "code",
   "execution_count": null,
   "id": "06e65378",
   "metadata": {},
   "outputs": [],
   "source": [
    "print(appdata.OCCUPATION_TYPE.value_counts())\n",
    "# Replacing null values with \"Unknown\"\n",
    "appdata[\"OCCUPATION_TYPE\"] = appdata[\"OCCUPATION_TYPE\"].fillna(\"Unknown\")\n",
    "appdata.OCCUPATION_TYPE.value_counts()"
   ]
  },
  {
   "cell_type": "code",
   "execution_count": null,
   "id": "5cc82e84",
   "metadata": {},
   "outputs": [],
   "source": [
    "# Plotting a percentage graph having each category of \"OCCUPATION_TYPE\"\n",
    "plt.figure(figsize = [12,7])\n",
    "(appdata[\"OCCUPATION_TYPE\"].value_counts()).plot.bar(width = .7)\n",
    "plt.title(\"Percentage of Type of Occupations\", fontdict={\"fontsize\":20}, pad =20,color = \"#4472C4\")\n",
    "plt.show()"
   ]
  },
  {
   "cell_type": "markdown",
   "id": "0cc49fbe",
   "metadata": {},
   "source": [
    "**INSIGHTS**\n",
    "\n",
    "Highest % of values belong to Unknown category and Laborers has the Second Highest.\n",
    "Lowest being the IT staff."
   ]
  },
  {
   "cell_type": "code",
   "execution_count": null,
   "id": "dc572aab",
   "metadata": {},
   "outputs": [],
   "source": [
    "print(appdata.ORGANIZATION_TYPE.value_counts())\n",
    "# Replacing XNA with NaN\n",
    "appdata = appdata.replace('XNA',np.NaN)\n",
    "appdata.ORGANIZATION_TYPE.value_counts()"
   ]
  },
  {
   "cell_type": "code",
   "execution_count": null,
   "id": "f810489a",
   "metadata": {},
   "outputs": [],
   "source": [
    "# Plotting a percentage graph having each category of \"ORGANIZATION_TYPE\"\n",
    "plt.figure(figsize = [12,7])\n",
    "(appdata[\"ORGANIZATION_TYPE\"].value_counts()).plot.bar(width = .7)\n",
    "plt.title(\"Percentage of Type of Occupations\", fontdict={\"fontsize\":20}, pad =20,color = \"#4472C4\")\n",
    "plt.show()"
   ]
  },
  {
   "cell_type": "code",
   "execution_count": null,
   "id": "3995227b",
   "metadata": {},
   "outputs": [],
   "source": [
    "#creating \"amt_credit\" variable having these columns \"AMT_REQ_CREDIT_BUREAU_YEAR\",\"AMT_REQ_CREDIT_BUREAU_QRT\",\"AMT_REQ_CREDIT_BUREAU_MON\",\"AMT_REQ_CREDIT_BUREAU_WEEK\",\n",
    "#\"AMT_REQ_CREDIT_BUREAU_DAY\",\"AMT_REQ_CREDIT_BUREAU_HOUR\"\n",
    "amt_credit = [\"AMT_REQ_CREDIT_BUREAU_YEAR\",\"AMT_REQ_CREDIT_BUREAU_QRT\",\"AMT_REQ_CREDIT_BUREAU_MON\",\"AMT_REQ_CREDIT_BUREAU_WEEK\",\n",
    "\"AMT_REQ_CREDIT_BUREAU_DAY\",\"AMT_REQ_CREDIT_BUREAU_HOUR\"]\n",
    "\n",
    "#filling missing values with median values\n",
    "appdata.fillna(appdata[amt_credit].median(),inplace = True)\n",
    "\n",
    "appdata"
   ]
  },
  {
   "cell_type": "markdown",
   "id": "92620c22",
   "metadata": {},
   "source": [
    "# 4.A. Binning Variables for Predata"
   ]
  },
  {
   "cell_type": "code",
   "execution_count": null,
   "id": "56dc011a",
   "metadata": {},
   "outputs": [],
   "source": [
    "#days group calculation e.g. 369 will be grouped as with in 2 years\n",
    "bins = [0,1*365,2*365,3*365,4*365,5*365,6*365,7*365,10*365]\n",
    "slots = [\"1\",\"2\",\"3\",\"4\",\"5\",\"6\",\"7\",\"7 above\"]\n",
    "predata['YEARLY_DECISION'] = pd.cut(predata['DAYS_DECISION'],bins,labels=slots)\n",
    "\n",
    "predata['YEARLY_DECISION'].value_counts(normalize=True)*100"
   ]
  },
  {
   "cell_type": "markdown",
   "id": "f7f0c320",
   "metadata": {},
   "source": [
    "**INSIGHTS**\n",
    "\n",
    "Almost 35% loan applicatants have applied for a new loan within 1 year of previous loan decision\n"
   ]
  },
  {
   "cell_type": "code",
   "execution_count": null,
   "id": "6bd430bf",
   "metadata": {},
   "outputs": [],
   "source": [
    "#Converting required categoical columns from Object to categorical \n",
    "\n",
    "pcatgorical = ['NAME_CASH_LOAN_PURPOSE','NAME_CONTRACT_STATUS','NAME_PAYMENT_TYPE','CODE_REJECT_REASON',\n",
    "               'NAME_CLIENT_TYPE','NAME_GOODS_CATEGORY','NAME_PORTFOLIO','NAME_PRODUCT_TYPE','CHANNEL_TYPE',\n",
    "               'NAME_SELLER_INDUSTRY','NAME_YIELD_GROUP','PRODUCT_COMBINATION', 'NAME_CONTRACT_TYPE']\n",
    "for col in pcatgorical:\n",
    "    predata[col] =pd.Categorical(predata[col])\n",
    "\n",
    "len(pcatgorical)"
   ]
  },
  {
   "cell_type": "markdown",
   "id": "67ef1677",
   "metadata": {},
   "source": [
    "# 4.B. Binning Variables for Appdata"
   ]
  },
  {
   "cell_type": "code",
   "execution_count": null,
   "id": "8ec9d051",
   "metadata": {},
   "outputs": [],
   "source": [
    "# Creating bins for income amount in term of Lakhs\n",
    "appdata['AMT_INCOME_TOTAL']=appdata['AMT_INCOME_TOTAL']/100000\n",
    "\n",
    "bins = [0,1,2,3,4,5,6,7,8,9,10,11]\n",
    "slot = ['0-1L','1L-2L', '2L-3L','3L-4L','4L-5L','5L-6L','6L-7L','7L-8L','8L-9L','9L-10L','10L Above']\n",
    "\n",
    "appdata['AMT_INCOME_RANGE']=pd.cut(appdata['AMT_INCOME_TOTAL'],bins,labels=slot)\n",
    "round((appdata[\"AMT_INCOME_RANGE\"].value_counts(normalize = True)*100),2)"
   ]
  },
  {
   "cell_type": "code",
   "execution_count": null,
   "id": "0a92f2ba",
   "metadata": {},
   "outputs": [],
   "source": [
    "# Creating bins for Credit amount in term of Lakhs\n",
    "appdata['AMT_CREDIT']=appdata['AMT_CREDIT']/100000\n",
    "\n",
    "bins = [0,1,2,3,4,5,6,7,8,9,10,100]\n",
    "slots = ['0-1L','1L-2L', '2L-3L','3L-4L','4L-5L','5L-6L','6L-7L','7L-8L','8L-9L','9L-10L','10L Above']\n",
    "\n",
    "appdata['AMT_CREDIT_RANGE']=pd.cut(appdata['AMT_CREDIT'],bins=bins,labels=slots)\n",
    "round((appdata[\"AMT_CREDIT_RANGE\"].value_counts(normalize = True)*100),2)"
   ]
  },
  {
   "cell_type": "code",
   "execution_count": null,
   "id": "9cf4a6b7",
   "metadata": {},
   "outputs": [],
   "source": [
    "# Creating bins for Price of Goods in term of Lakhs\n",
    "appdata['AMT_GOODS_PRICE']=appdata['AMT_GOODS_PRICE']/100000\n",
    "\n",
    "bins = [0,1,2,3,4,5,6,7,8,9,10,100]\n",
    "slots = ['0-1L','1L-2L', '2L-3L','3L-4L','4L-5L','5L-6L','6L-7L','7L-8L','8L-9L','9L-10L','10L Above']\n",
    "\n",
    "appdata['AMT_GOODS_PRICE_RANGE']=pd.cut(appdata['AMT_GOODS_PRICE'],bins=bins,labels=slots)\n",
    "round((appdata[\"AMT_GOODS_PRICE_RANGE\"].value_counts(normalize = True)*100),2)"
   ]
  },
  {
   "cell_type": "code",
   "execution_count": null,
   "id": "1d0b75d1",
   "metadata": {},
   "outputs": [],
   "source": [
    "# creating \"days_col\" varibale to store all days columns\n",
    "dayscol = [\"DAYS_BIRTH\", \"DAYS_EMPLOYED\", \"DAYS_REGISTRATION\", \"DAYS_ID_PUBLISH\", \"DAYS_LAST_PHONE_CHANGE\"]\n",
    "appdata[dayscol].describe()"
   ]
  },
  {
   "cell_type": "code",
   "execution_count": null,
   "id": "152ed9e6",
   "metadata": {},
   "outputs": [],
   "source": [
    "#using abs() function to correct the days values\n",
    "appdata[dayscol]= abs(appdata[dayscol])\n",
    "appdata[dayscol].describe()"
   ]
  },
  {
   "cell_type": "code",
   "execution_count": null,
   "id": "26727416",
   "metadata": {},
   "outputs": [],
   "source": [
    "# Convert DAYS_BIRTH, DAYS_EMPLOYED columns in terms of Years and binning years for better understanding,\n",
    "# that is adding two more categorical column\n",
    "appdata[\"AGE\"] = appdata[\"DAYS_BIRTH\"]/365\n",
    "bins = [0,20,25,30,35,40,45,50,55,60,100]\n",
    "slots = [\"0-20\",\"20-25\",\"25-30\",\"30-35\",\"35-40\",\"40-45\",\"45-50\",\"50-55\",\"55-60\",\"60 Above\"]\n",
    "\n",
    "appdata[\"AGE_GROUP\"] = pd.cut(appdata[\"AGE\"], bins=bins, labels=slots)\n",
    "appdata[\"AGE_GROUP\"].value_counts(normalize= True)*100"
   ]
  },
  {
   "cell_type": "code",
   "execution_count": null,
   "id": "d37162ba",
   "metadata": {},
   "outputs": [],
   "source": [
    "# Converting 'DAYS_BIRTH' to years\n",
    "appdata['DAYS_BIRTH']= (appdata['DAYS_BIRTH']/365).astype(int)\n",
    "bins=[19,25,35,60,100]\n",
    "slots=['Very_Young','Young', 'Middle_Age', 'Senior_Citizen']\n",
    "\n",
    "appdata['DAYS_BIRTH_BINS']=pd.cut(appdata['DAYS_BIRTH'], bins=bins, labels=slots)\n",
    "appdata['DAYS_BIRTH_BINS'].value_counts()"
   ]
  },
  {
   "cell_type": "code",
   "execution_count": null,
   "id": "6b64c3cf",
   "metadata": {},
   "outputs": [],
   "source": [
    "#creating column \"EMPLOYEMENT_YEARS\" from \"DAYS_EMPLOYED\"\n",
    "appdata[\"YEARS_EMPLOYED\"] = appdata[\"DAYS_EMPLOYED\"]/365\n",
    "bins = [0,5,10,15,20,25,30,50]\n",
    "slots = [\"0-5\",\"5-10\",\"10-15\",\"15-20\",\"20-25\",\"25-30\",\"30 Above\"]\n",
    "\n",
    "appdata[\"EMPLOYEMENT_YEARS\"] = pd.cut(appdata[\"YEARS_EMPLOYED\"], bins=bins, labels=slots)\n",
    "appdata[\"EMPLOYEMENT_YEARS\"].value_counts(normalize= True)*100"
   ]
  },
  {
   "cell_type": "code",
   "execution_count": null,
   "id": "52a09de1",
   "metadata": {},
   "outputs": [],
   "source": [
    "#Converting Desired columns from Object to Categorical column\n",
    "#from the list, we have taken out the desired columns for conversion\n",
    "categorical = ['NAME_CONTRACT_TYPE','CODE_GENDER','NAME_TYPE_SUITE','NAME_INCOME_TYPE','NAME_EDUCATION_TYPE',\n",
    "               'NAME_FAMILY_STATUS','NAME_HOUSING_TYPE','OCCUPATION_TYPE','WEEKDAY_APPR_PROCESS_START', 'ORGANIZATION_TYPE',\n",
    "               'LIVE_CITY_NOT_WORK_CITY','REG_CITY_NOT_LIVE_CITY','REG_CITY_NOT_WORK_CITY','REG_REGION_NOT_WORK_REGION',\n",
    "               'LIVE_REGION_NOT_WORK_REGION','REGION_RATING_CLIENT','WEEKDAY_APPR_PROCESS_START','REGION_RATING_CLIENT_W_CITY','CNT_FAM_MEMBERS']\n",
    "\n",
    "for col in categorical:\n",
    "    appdata[col] = pd.Categorical(appdata[col])\n",
    "    \n",
    "# Converting total of 21 columns to categorical one\n",
    "len(categorical)"
   ]
  },
  {
   "cell_type": "markdown",
   "id": "a0e78ede",
   "metadata": {},
   "source": [
    "# 5.A. Identifying Outliers for Predata"
   ]
  },
  {
   "cell_type": "code",
   "execution_count": null,
   "id": "ef1da7a6",
   "metadata": {},
   "outputs": [],
   "source": [
    "poutlier = ['AMT_ANNUITY','AMT_APPLICATION','AMT_CREDIT','AMT_GOODS_PRICE','SELLERPLACE_AREA','DAYS_DECISION','CNT_PAYMENT']\n",
    "plt.figure(figsize=[15,30])\n",
    "for i,j in enumerate(poutlier):\n",
    "    plt.subplot(3,3,i+1)\n",
    "    sns.boxplot(y = predata[j],color = \"#70AD47\")\n",
    "    plt.yticks(fontsize=8)\n",
    "    plt.xlabel(poutlier[i])\n",
    "    plt.ylabel(\"\")\n",
    "    plt.title(i)\n",
    "    plt.savefig(\"poutliers.png\")"
   ]
  },
  {
   "cell_type": "markdown",
   "id": "34d254b5",
   "metadata": {},
   "source": [
    "**INSIGHTS**\n",
    "\n",
    "It can be seen that in previous application data\n",
    "\n",
    "- AMT_ANNUITY, AMT_APPLICATION, AMT_CREDIT, AMT_GOODS_PRICE, SELLERPLACE_AREA have huge number of outliers.\n",
    "- CNT_PAYMENT has few outlier values.\n",
    "- DAYS_DECISION has little number of outliers indicating that these previous applications decisions were taken long back."
   ]
  },
  {
   "cell_type": "code",
   "execution_count": null,
   "id": "44bece68",
   "metadata": {},
   "outputs": [],
   "source": [
    "#orginial shape of the appdata before removing outliers\n",
    "pog = predata.shape\n",
    "pog"
   ]
  },
  {
   "cell_type": "code",
   "execution_count": null,
   "id": "d10e031f",
   "metadata": {},
   "outputs": [],
   "source": [
    "# removing outliers using 1.5 IQR method and storing it in a new dataframe\n",
    "ptemporary=predata[:]\n",
    "for out in poutlier: \n",
    "    q1 = ptemporary[out].quantile(0.25)\n",
    "    q3 = ptemporary[out].quantile(0.75)\n",
    "    iqr = q3-q1\n",
    "    range_low  = q1-(1.5*iqr)\n",
    "    range_high = q3+(1.5*iqr)\n",
    "    ptemp = ptemporary[(ptemporary[out] < range_low) | (ptemporary[out] > range_high)]\n",
    "    ptemporary.drop(ptemp.index , inplace=True)"
   ]
  },
  {
   "cell_type": "code",
   "execution_count": null,
   "id": "6b5a592f",
   "metadata": {},
   "outputs": [],
   "source": [
    "# percentage data lost \n",
    "100 * ((pog[0]-ptemporary.shape[0] ) / pog[0])"
   ]
  },
  {
   "cell_type": "markdown",
   "id": "b9638d4b",
   "metadata": {},
   "source": [
    "# 5.B. Identifying Outliers for Appdata"
   ]
  },
  {
   "cell_type": "code",
   "execution_count": null,
   "id": "c08d0d24",
   "metadata": {},
   "outputs": [],
   "source": [
    "outlier = [\"CNT_CHILDREN\",\"AMT_INCOME_TOTAL\", \"AMT_CREDIT\", \"AMT_ANNUITY\", \"AMT_GOODS_PRICE\", \"DAYS_BIRTH\", \"DAYS_EMPLOYED\", \"DAYS_REGISTRATION\"]\n",
    "plt.figure(figsize=[15,30])\n",
    "for i,j in enumerate(outlier):\n",
    "    plt.subplot(3,3,i+1)\n",
    "    sns.boxplot(y = appdata[j],color = \"#4472C4\")\n",
    "    plt.yticks(fontsize=8)\n",
    "    plt.xlabel(outlier[i])\n",
    "    plt.ylabel(\"\")\n",
    "    plt.title(i)\n",
    "    plt.savefig(\"outliers.png\")"
   ]
  },
  {
   "cell_type": "markdown",
   "id": "2cad59b0",
   "metadata": {},
   "source": [
    "**INSIGHTS**\n",
    "\n",
    "It can be seen that in current application data\n",
    "- AMT_ANNUITY, AMT_CREDIT, AMT_GOODS_PRICE,CNT_CHILDREN have some number of outliers.\n",
    "- AMT_INCOME_TOTAL has huge number of outliers which indicate that few of the loan applicants have high income when compared to the others.\n",
    "- DAYS_BIRTH has no outliers which means the data available is reliable.\n",
    "- DAYS_EMPLOYED has outlier values around 350000(days) which is around 958 years which is impossible and hence this has to be incorrect entry."
   ]
  },
  {
   "cell_type": "code",
   "execution_count": null,
   "id": "1203f6e9",
   "metadata": {},
   "outputs": [],
   "source": [
    "#orginial shape of the appdata before removing outliers\n",
    "og = appdata.shape\n",
    "og"
   ]
  },
  {
   "cell_type": "code",
   "execution_count": null,
   "id": "6c5eca34",
   "metadata": {},
   "outputs": [],
   "source": [
    "# removing outliers using 1.5 IQR method and stroing it in a new dataframe\n",
    "temporary=appdata[:]\n",
    "for out in outlier: \n",
    "    q1 = temporary[out].quantile(0.25)\n",
    "    q3 = temporary[out].quantile(0.75)\n",
    "    iqr = q3-q1\n",
    "    range_low  = q1-(1.5*iqr)\n",
    "    range_high = q3+(1.5*iqr)\n",
    "    temp = temporary[(temporary[out] < range_low) | (temporary[out] > range_high)]\n",
    "    temporary.drop(temp.index , inplace=True)"
   ]
  },
  {
   "cell_type": "code",
   "execution_count": null,
   "id": "09814245",
   "metadata": {},
   "outputs": [],
   "source": [
    "# percentage data lost \n",
    "100 * ((og[0]- temporary.shape[0] ) / og[0])"
   ]
  },
  {
   "cell_type": "markdown",
   "id": "170168bb",
   "metadata": {},
   "source": [
    "# 6. Imbalance Data"
   ]
  },
  {
   "cell_type": "code",
   "execution_count": null,
   "id": "dc6b58c2",
   "metadata": {},
   "outputs": [],
   "source": [
    "temp1=appdata[\"TARGET\"].value_counts()\n",
    "plt.figure(figsize= [14,6])\n",
    "patches, texts, pcts=plt.pie(appdata[\"TARGET\"].value_counts(),labels=[\"Repayer\",\"Defaulter\"],colors=[\"#70AD47\",\"#4472C4\"],autopct='%.0f%%',wedgeprops={'linewidth': 2.0, 'edgecolor': 'white'},textprops={'size': '14'})\n",
    "plt.setp(pcts, color='white', fontweight='bold',fontsize=14)\n",
    "plt.title(\"Imbalance Plotting (Repayer Vs Defaulter)\", fontdict = {\"fontsize\":18})\n",
    "plt.show()"
   ]
  },
  {
   "cell_type": "markdown",
   "id": "03e0d00d",
   "metadata": {},
   "source": [
    "Imbalance Ratio with respect to Repayer and Defaulter is given: **11.39/1 (approx)**"
   ]
  },
  {
   "cell_type": "markdown",
   "id": "cfa3531d",
   "metadata": {},
   "source": [
    "# 7. Exploratory Data Analysis"
   ]
  },
  {
   "cell_type": "markdown",
   "id": "c2f8a232",
   "metadata": {},
   "source": [
    "## 7.1 Univariate Analysis"
   ]
  },
  {
   "cell_type": "code",
   "execution_count": null,
   "id": "0077900d",
   "metadata": {},
   "outputs": [],
   "source": [
    "# Dividing the original dataset into two different datasets depending upon the target value\n",
    "tgt0 = appdata.loc[appdata.TARGET == 0]\n",
    "tgt1 = appdata.loc[appdata.TARGET == 1]\n",
    "count1=0\n",
    "\n",
    "# Function for univariate plots\n",
    "def punivariate(tg,title,col,hue =None):\n",
    "    label1=tg[col].value_counts().index\n",
    "    plt.figure(figsize= [20,5])\n",
    "    patches, texts, pcts=plt.pie(tg[col].value_counts(),autopct='%.0f%%',wedgeprops={'linewidth': 2.0, 'edgecolor': 'white'},textprops={'size': '14'})\n",
    "    plt.setp(pcts, color='white', fontweight='bold',fontsize=14)\n",
    "    plt.title(title, fontdict = {\"fontsize\":18})\n",
    "    plt.legend(label1,loc='upper left', bbox_to_anchor =(1,1,0.5,0))\n",
    "    plt.tight_layout()\n",
    "    plt.show()"
   ]
  },
  {
   "cell_type": "code",
   "execution_count": null,
   "id": "9dbae624",
   "metadata": {
    "scrolled": false
   },
   "outputs": [],
   "source": [
    "# Income range of Loan-Non Payment Difficulties\n",
    "punivariate(tg=tgt0, title='Income Range of Loan- Non Payment Difficulties',col=\"AMT_INCOME_RANGE\")"
   ]
  },
  {
   "cell_type": "code",
   "execution_count": null,
   "id": "b29cbe29",
   "metadata": {},
   "outputs": [],
   "source": [
    "# Income range of Loan Payment Difficulties\n",
    "punivariate(tg=tgt1,title='Income Range of Loan Payment Difficulties',col=\"AMT_INCOME_RANGE\")"
   ]
  },
  {
   "cell_type": "code",
   "execution_count": null,
   "id": "9ada0218",
   "metadata": {
    "scrolled": true
   },
   "outputs": [],
   "source": [
    "# Education of Loan-Non Payment Difficulties\n",
    "punivariate(tg=tgt0, title='Education of Loan- Non Payment Difficulties',col=\"NAME_EDUCATION_TYPE\")"
   ]
  },
  {
   "cell_type": "code",
   "execution_count": null,
   "id": "57808ba6",
   "metadata": {
    "scrolled": true
   },
   "outputs": [],
   "source": [
    "# Income range of Loan Payment Difficulties\n",
    "punivariate(tg=tgt1,title='Education of Loan Payment Difficulties',col=\"NAME_EDUCATION_TYPE\")"
   ]
  },
  {
   "cell_type": "markdown",
   "id": "1f8651c6",
   "metadata": {},
   "source": [
    "## 7.2 Segmented Univariate Analysis"
   ]
  },
  {
   "cell_type": "code",
   "execution_count": null,
   "id": "88156713",
   "metadata": {},
   "outputs": [],
   "source": [
    "# Dividing the original dataset into two different datasets depending upon the target value\n",
    "tgt0 = appdata.loc[appdata.TARGET == 0]\n",
    "tgt1 = appdata.loc[appdata.TARGET == 1]\n",
    "count=0\n",
    "\n",
    "# Function for univariate plots\n",
    "def univariate(df,col,hue =None):\n",
    "    sns.set(style=\"darkgrid\")\n",
    "    fig, ax=plt.subplots(nrows =1,ncols=2,figsize=(18,8))\n",
    "    ax[0].set_title(\"Distribution Plot\",fontdict = {\"fontsize\":18})\n",
    "    sns.distplot(df[~df[col].isna()][col],ax=ax[0], color=\"#4472C4\")\n",
    "    ax[1].set_title(\"Box Plot\",fontdict = {\"fontsize\":18})\n",
    "    sns.boxplot(data=df, x=col,ax=ax[1],orient='.', color=\"#4472C4\")\n",
    "    plt.show()\n",
    "    \n",
    "# Distribution and Box plot for 'AMT_ANNUITY' for Loan Non-Payment Difficulties\n",
    "univariate(df=tgt0,col='AMT_ANNUITY')"
   ]
  },
  {
   "cell_type": "code",
   "execution_count": null,
   "id": "24b0983d",
   "metadata": {},
   "outputs": [],
   "source": [
    "# Distribution and Box plot for 'AMT_ANNUITY' for Loan- Payment Difficulties\n",
    "univariate(df=tgt1,col='AMT_ANNUITY')"
   ]
  },
  {
   "cell_type": "code",
   "execution_count": null,
   "id": "13cb8646",
   "metadata": {},
   "outputs": [],
   "source": [
    "# Distribution and Box plot for 'AMT_CREDIT' for Loan Non-Payment Difficulties\n",
    "univariate(df=tgt0,col='AMT_CREDIT')"
   ]
  },
  {
   "cell_type": "code",
   "execution_count": null,
   "id": "97ceab10",
   "metadata": {},
   "outputs": [],
   "source": [
    "# Distribution and Box plot for 'AMT_CREDIT' for Loan Payment Difficulties\n",
    "univariate(df=tgt1,col='AMT_CREDIT')"
   ]
  },
  {
   "cell_type": "code",
   "execution_count": null,
   "id": "ded21eae",
   "metadata": {},
   "outputs": [],
   "source": [
    "# Distribution and Box plot for 'AMT_GOODS_PRICE' for Loan- Non-Payment Difficulties\n",
    "univariate(df=tgt0,col='AMT_GOODS_PRICE')"
   ]
  },
  {
   "cell_type": "code",
   "execution_count": null,
   "id": "a1ca091c",
   "metadata": {},
   "outputs": [],
   "source": [
    "# Distribution and Box plot for 'AMT_GOODS_PRICE' for Loan-Payment Difficulties\n",
    "univariate(df=tgt1,col='AMT_GOODS_PRICE')"
   ]
  },
  {
   "cell_type": "markdown",
   "id": "7f04dafb",
   "metadata": {},
   "source": [
    "**INSIGHTS**\n",
    "\n",
    "- Most no. of loans are given for goods price below 10 lakhs\n",
    "- Credit amount of the loan is mostly less then 10 lakhs\n",
    "- Most people pay annuity below 50K for the credit loan"
   ]
  },
  {
   "cell_type": "markdown",
   "id": "b94b0a24",
   "metadata": {},
   "source": [
    "## 7.3 Bivariate Analysis"
   ]
  },
  {
   "cell_type": "code",
   "execution_count": null,
   "id": "a8b6c1b0",
   "metadata": {},
   "outputs": [],
   "source": [
    "appdata.groupby('NAME_INCOME_TYPE')['AMT_INCOME_TOTAL'].describe()"
   ]
  },
  {
   "cell_type": "code",
   "execution_count": null,
   "id": "3de4aa64",
   "metadata": {},
   "outputs": [],
   "source": [
    "# function for plotting repetitive barplots in bivariate categorical analysis\n",
    "def bivariate_categorical(x,y,df,hue,figsize,labels):\n",
    "    plt.figure(figsize=figsize)\n",
    "    sns.barplot(x=x,y=y,data=df, hue=hue,palette=('#70AD47','#4472C4'))     \n",
    "        \n",
    "    # Defining aesthetics of Labels and Title of the plot using style dictionaries\n",
    "    plt.xlabel(x,fontsize = 15)    \n",
    "    plt.ylabel(y,fontsize = 15)   \n",
    "    plt.xticks(rotation=45, ha='right')\n",
    "    plt.legend(labels = labels )\n",
    "    plt.show()"
   ]
  },
  {
   "cell_type": "code",
   "execution_count": null,
   "id": "84a7576e",
   "metadata": {},
   "outputs": [],
   "source": [
    "# Income type vs Income Amount Range on a Seaborn Barplot\n",
    "bivariate_categorical(\"NAME_INCOME_TYPE\",\"AMT_INCOME_TOTAL\",appdata,\"TARGET\",(15,6),['Repayer','Defaulter'])"
   ]
  },
  {
   "cell_type": "markdown",
   "id": "ab7a930b",
   "metadata": {},
   "source": [
    "**INSIGHTS**\n",
    "\n",
    "It can be seen that Businessman income is the highest and the estimated range seem to indicate that the income of a Businessman could be in the range close to 4 lakhs and slightly above 10 lakhs."
   ]
  },
  {
   "cell_type": "markdown",
   "id": "5bca3f69",
   "metadata": {},
   "source": [
    "## 7.4 Bivariate Analysis of Categorical vs Numerical Variables"
   ]
  },
  {
   "cell_type": "code",
   "execution_count": null,
   "id": "b4edea5e",
   "metadata": {},
   "outputs": [],
   "source": [
    "# 'NAME_EDUCATION_TYPE' vs 'AMT_CREDIT' for Loan Non-Payment Difficulties\n",
    "fig = px.box(tgt0, x=\"NAME_EDUCATION_TYPE\", y=\"AMT_CREDIT\", color='NAME_FAMILY_STATUS',\n",
    "                title=\"Credit amount vs Education of Loan Non-Payment Difficulties\")\n",
    "\n",
    "fig.show()"
   ]
  },
  {
   "cell_type": "code",
   "execution_count": null,
   "id": "d3749d23",
   "metadata": {},
   "outputs": [],
   "source": [
    "# 'NAME_EDUCATION_TYPE' vs 'AMT_CREDIT' for Loan Payment Difficulties\n",
    "fig = px.box(tgt1, x=\"NAME_EDUCATION_TYPE\", y=\"AMT_CREDIT\", color='NAME_FAMILY_STATUS',\n",
    "                title=\"Credit amount vs Education of Loan Payment Difficulties\")\n",
    "\n",
    "fig.show()"
   ]
  },
  {
   "cell_type": "markdown",
   "id": "31ee476f",
   "metadata": {},
   "source": [
    "**INSIGHTS** \n",
    "\n",
    "The graphs *Credit Amount VS Education* for Loan Payment Difficulties and Loan Non-Payment Difficulties appears to be similar.\n",
    "\n",
    "- We observe that Family status of 'civil marriage', 'marriage' and 'separated' of Academic degree education are having higher number of credits than others.\n",
    "- Most of the outliers are from Education type 'Higher education' and 'Secondary'.\n",
    "- Civil marriage for Academic degree is having most of the credits in the 3rd Quartile."
   ]
  },
  {
   "cell_type": "code",
   "execution_count": null,
   "id": "a93cee2d",
   "metadata": {},
   "outputs": [],
   "source": [
    "# 'AMT_INCOME_RANGE' vs 'AMT_CREDIT' for Loan - Non Payment Difficulties\n",
    "fig = px.box(tgt0, x=\"AMT_INCOME_RANGE\", y=\"AMT_CREDIT\", color='NAME_FAMILY_STATUS',\n",
    "                title=\"Income range vs Credit amount of Loan Non- Payment Difficulties\")\n",
    "\n",
    "fig.show()"
   ]
  },
  {
   "cell_type": "code",
   "execution_count": null,
   "id": "b99d22eb",
   "metadata": {},
   "outputs": [],
   "source": [
    "# 'AMT_INCOME_RANGE' vs 'AMT_CREDIT' for Loan Payment Difficulties\n",
    "fig = px.box(tgt1, x=\"AMT_INCOME_RANGE\", y=\"AMT_CREDIT\", color='NAME_FAMILY_STATUS',\n",
    "                title=\"Income range vs Credit amount of Loan Payment Difficulties\")\n",
    "\n",
    "fig.show()"
   ]
  },
  {
   "cell_type": "markdown",
   "id": "b689a904",
   "metadata": {},
   "source": [
    "**INSIGHTS** \n",
    "\n",
    "The graphs *Credit Amount VS Income Range* for Loan Payment Difficulties and Loan Non-Payment Difficulties appears to be similar.\n",
    "\n",
    "- We observe that ‘Single/ not Married’ have the highest credit with income range of 9L – 10L\n",
    "- Maximum outliers are for ‘Married’ Applicant in the range of income 1L – 2L\n",
    "- ‘Single’ Applicants with Loan Payment Difficulties with Credit > 20 have income range of 9L to 10L in 3rd Quartile\n",
    "- ‘Separated’ Applicants with Loan Non-Payment Difficulties with Credit > 25 have income range of 10L & Above in 3rd Quartile"
   ]
  },
  {
   "cell_type": "markdown",
   "id": "b7663058",
   "metadata": {},
   "source": [
    "## 7.5 Numeric Variables Analysis"
   ]
  },
  {
   "cell_type": "code",
   "execution_count": null,
   "id": "c39d0456",
   "metadata": {},
   "outputs": [],
   "source": [
    "#Pairplot for Target 0 (Loan Non-Payment Difficulties)\n",
    "pair0 = tgt0[['AMT_CREDIT', 'AMT_ANNUITY', 'AMT_INCOME_TOTAL', 'AMT_GOODS_PRICE', 'DAYS_BIRTH']].fillna(0)\n",
    "sns.pairplot(pair0)\n",
    "plt.show()"
   ]
  },
  {
   "cell_type": "code",
   "execution_count": null,
   "id": "1d0d427f",
   "metadata": {},
   "outputs": [],
   "source": [
    "#Pairplot for Target 1 (Loan Payment Difficulties)\n",
    "pair1 = tgt1[['AMT_CREDIT', 'AMT_ANNUITY', 'AMT_INCOME_TOTAL', 'AMT_GOODS_PRICE', 'DAYS_BIRTH']].fillna(0)\n",
    "sns.pairplot(pair1)\n",
    "plt.show()"
   ]
  },
  {
   "cell_type": "code",
   "execution_count": null,
   "id": "2b3227e6",
   "metadata": {},
   "outputs": [],
   "source": [
    "#Listing all the columnns of dataframe \"appl_data\"\n",
    "appdata.columns\n",
    "\n",
    "# bisecting the app_data dataframe based on Target value 0 and 1 for correlation and other analysis\n",
    "colms_correlation = ['NAME_CONTRACT_TYPE', 'CODE_GENDER',\n",
    "                        'CNT_CHILDREN', 'AMT_INCOME_TOTAL', 'AMT_CREDIT', 'AMT_ANNUITY', 'AMT_GOODS_PRICE', \n",
    "                        'NAME_TYPE_SUITE', 'NAME_INCOME_TYPE', 'NAME_EDUCATION_TYPE', 'NAME_FAMILY_STATUS',\n",
    "                        'NAME_HOUSING_TYPE', 'REGION_POPULATION_RELATIVE', 'DAYS_BIRTH', 'DAYS_EMPLOYED', \n",
    "                        'DAYS_REGISTRATION', 'DAYS_ID_PUBLISH', 'OCCUPATION_TYPE', 'CNT_FAM_MEMBERS', 'REGION_RATING_CLIENT',\n",
    "                        'REGION_RATING_CLIENT_W_CITY', 'WEEKDAY_APPR_PROCESS_START', 'HOUR_APPR_PROCESS_START',\n",
    "                        'REG_REGION_NOT_LIVE_REGION', 'REG_REGION_NOT_WORK_REGION', 'LIVE_REGION_NOT_WORK_REGION', \n",
    "                        'REG_CITY_NOT_LIVE_CITY', 'REG_CITY_NOT_WORK_CITY', 'LIVE_CITY_NOT_WORK_CITY', 'ORGANIZATION_TYPE',\n",
    "                        'OBS_60_CNT_SOCIAL_CIRCLE', 'DEF_60_CNT_SOCIAL_CIRCLE', 'DAYS_LAST_PHONE_CHANGE',\n",
    "                        'AMT_REQ_CREDIT_BUREAU_HOUR', 'AMT_REQ_CREDIT_BUREAU_DAY', 'AMT_REQ_CREDIT_BUREAU_WEEK',\n",
    "                        'AMT_REQ_CREDIT_BUREAU_MON', 'AMT_REQ_CREDIT_BUREAU_QRT', 'AMT_REQ_CREDIT_BUREAU_YEAR']\n",
    "\n",
    "# Repayers dataframe\n",
    "repayer_dataframe = appdata.loc[appdata['TARGET']==0, colms_correlation]\n",
    "repayer_dataframe.head()"
   ]
  },
  {
   "cell_type": "code",
   "execution_count": null,
   "id": "80d0f761",
   "metadata": {},
   "outputs": [],
   "source": [
    "# Defaulters dataframe\n",
    "defaulter_dataframe = appdata.loc[appdata['TARGET']==1, colms_correlation]\n",
    "defaulter_dataframe.head()"
   ]
  },
  {
   "cell_type": "code",
   "execution_count": null,
   "id": "c808318a",
   "metadata": {},
   "outputs": [],
   "source": [
    "# Getting  top 10 correlation for the Repayers dataframe\n",
    "\n",
    "repayer_corr = repayer_dataframe.corr()\n",
    "corr_df_repayer = repayer_corr.where(np.triu(np.ones(repayer_corr.shape),k=1).astype(np.bool)).unstack().reset_index()\n",
    "corr_df_repayer.columns =['VAR1','VAR2','Correlation']\n",
    "corr_df_repayer.dropna(subset = [\"Correlation\"], inplace = True)\n",
    "corr_df_repayer[\"Correlation\"]=corr_df_repayer[\"Correlation\"].abs() \n",
    "corr_df_repayer.sort_values(by='Correlation', ascending=False, inplace=True) \n",
    "corr_df_repayer.head(10)"
   ]
  },
  {
   "cell_type": "code",
   "execution_count": null,
   "id": "5f0851d6",
   "metadata": {},
   "outputs": [],
   "source": [
    "#plotting heatmap to see linear correlation amoung Repayers \n",
    "fig = plt.figure(figsize=(20,18))\n",
    "ax = sns.heatmap(repayer_dataframe.corr(), cmap=\"mako\",annot=True,linewidth =1)"
   ]
  },
  {
   "cell_type": "code",
   "execution_count": null,
   "id": "c639df51",
   "metadata": {},
   "outputs": [],
   "source": [
    "# Getting the top 10 correlation for the Defaulter data\n",
    "corr_Defaulter = defaulter_dataframe.corr()\n",
    "corr_Defaulter = corr_Defaulter.where(np.triu(np.ones(corr_Defaulter.shape),k=1).astype(np.bool))\n",
    "corr_df_Defaulter = corr_Defaulter.unstack().reset_index()\n",
    "corr_df_Defaulter.columns =['VAR1','VAR2','Correlation']\n",
    "corr_df_Defaulter.dropna(subset = [\"Correlation\"], inplace = True)\n",
    "corr_df_Defaulter[\"Correlation\"]=corr_df_Defaulter[\"Correlation\"].abs()\n",
    "corr_df_Defaulter.sort_values(by='Correlation', ascending=False, inplace=True)\n",
    "corr_df_Defaulter.head(10)"
   ]
  },
  {
   "cell_type": "code",
   "execution_count": null,
   "id": "120615b0",
   "metadata": {},
   "outputs": [],
   "source": [
    "#plotting heatmap to see linear correlation amoung Defaulter\n",
    "fig = plt.figure(figsize=(20,15))\n",
    "ax = sns.heatmap(defaulter_dataframe.corr(), cmap=\"mako\",annot=True,linewidth =1)"
   ]
  },
  {
   "cell_type": "markdown",
   "id": "dba2f9e0",
   "metadata": {},
   "source": [
    "**INSIGHTS** \n",
    "\n",
    "1. Credit amount is highly correlated with good price amount which is same as repayers.\n",
    "\n",
    "2. Loan annuity correlation with credit amount has slightly reduced in defaulters(0.75) when compared to repayers(0.77).\n",
    "\n",
    "3. We can also see that repayers have high correlation in number of days employed(0.62) when compared to defaulters(0.58).\n",
    "\n",
    "4. There is a slight increase in defaulted to observed count in social circle among defaulters(0.264) when compared to repayers(0.254)"
   ]
  },
  {
   "cell_type": "markdown",
   "id": "b111ec5c",
   "metadata": {},
   "source": [
    "## 7.6 Merged Dataframes Analysis"
   ]
  },
  {
   "cell_type": "code",
   "execution_count": null,
   "id": "a48635ad",
   "metadata": {},
   "outputs": [],
   "source": [
    "# merge both the dataframe on SK_ID_CURR with Inner Joins\n",
    "loanapp = pd.merge(appdata, predata, how='inner', on='SK_ID_CURR')\n",
    "loanapp.head()"
   ]
  },
  {
   "cell_type": "code",
   "execution_count": null,
   "id": "88eff7b6",
   "metadata": {},
   "outputs": [],
   "source": [
    "#Checking the details of the merged dataframe\n",
    "loanapp.shape"
   ]
  },
  {
   "cell_type": "code",
   "execution_count": null,
   "id": "9820e926",
   "metadata": {},
   "outputs": [],
   "source": [
    "# checking the columns and column types of the dataframe\n",
    "loanapp.info()"
   ]
  },
  {
   "cell_type": "code",
   "execution_count": null,
   "id": "6df2c53b",
   "metadata": {},
   "outputs": [],
   "source": [
    "#function for plotting repetitive countplots in univariate categorical analysis on the merged data frame\n",
    "def univariate_category_merged(col,df,hue,palette,ylog,figsize):\n",
    "    plt.figure(figsize=figsize)\n",
    "    ax=sns.countplot(x=col, data=df,hue= hue,palette= palette,order=df[col].value_counts().index)\n",
    "    \n",
    "    if ylog:\n",
    "        plt.yscale('log')\n",
    "        plt.ylabel(\"Count (log)\",fontsize=15)     \n",
    "    else:\n",
    "        plt.ylabel(\"Count\",fontsize=15)       \n",
    "\n",
    "    plt.title((col+\" VS \"+hue) , fontsize=20) \n",
    "    plt.legend(loc = \"upper right\")\n",
    "    plt.xticks(rotation=45, ha='right')\n",
    "    \n",
    "    plt.show()"
   ]
  },
  {
   "cell_type": "code",
   "execution_count": null,
   "id": "3dc16f58",
   "metadata": {},
   "outputs": [],
   "source": [
    "# Bisecting the \"loan_df\" dataframe based on Target value 0 and 1 for correlation and other analysis\n",
    "\n",
    "loanapp0 = loanapp[loanapp['TARGET']==0] # Repayers\n",
    "loanapp1 = loanapp[loanapp['TARGET']==1] # Defaulters"
   ]
  },
  {
   "cell_type": "code",
   "execution_count": null,
   "id": "37b57bec",
   "metadata": {},
   "outputs": [],
   "source": [
    "#NAME_CASH_LOAN_PURPOSE vs NAME_CONTRACT_STATUS for Loan Non-Payment Difficulties\n",
    "univariate_category_merged(\"NAME_CASH_LOAN_PURPOSE\",loanapp0,\"NAME_CONTRACT_STATUS\",'mako',True,(18,7))"
   ]
  },
  {
   "cell_type": "code",
   "execution_count": null,
   "id": "cb83dc54",
   "metadata": {},
   "outputs": [],
   "source": [
    "#NAME_CASH_LOAN_PURPOSE vs NAME_CONTRACT_STATUS for Loan Payment Difficulties\n",
    "univariate_category_merged(\"NAME_CASH_LOAN_PURPOSE\",loanapp1,\"NAME_CONTRACT_STATUS\",'mako',True,(18,7))"
   ]
  },
  {
   "cell_type": "markdown",
   "id": "4ecad46e",
   "metadata": {},
   "source": [
    "**INSIGHTS**\n",
    "\n",
    "1. Loan purpose has high number of unknown values (XAP, XNA)\n",
    "2. Loan taken for the purpose of Repairs looks to have highest default rate\n",
    "3. Huge number application have been rejected by bank or refused by client which are applied for Repair or Other. from this we can infer that repair is considered high risk by bank. Also, either they are rejected or bank offers loan on high interest rate which is not feasible by the clients and they refuse the loan."
   ]
  },
  {
   "cell_type": "code",
   "execution_count": null,
   "id": "14955cc9",
   "metadata": {},
   "outputs": [],
   "source": [
    "# Checking Contract Status based on loan repayment status whether there is any business loss or financial loss\n",
    "univariate_category_merged(\"NAME_CONTRACT_STATUS\",loanapp,\"TARGET\",'mako',False,(14,8))\n",
    "l = loanapp.groupby(\"NAME_CONTRACT_STATUS\")[\"TARGET\"]\n",
    "df = pd.concat([l.value_counts(),round(l.value_counts(normalize=True).mul(100),2)],axis=1, keys=('Counts','Percentage'))\n",
    "df['Percentage'] = df['Percentage'].astype(str) +\"%\" # adding percentage symbol in the results for understanding\n",
    "df"
   ]
  },
  {
   "cell_type": "markdown",
   "id": "00bd930d",
   "metadata": {},
   "source": [
    "**INSIGHTS**\n",
    "\n",
    "1. 90% of the previously cancelled client have actually repayed the loan. Revising the interest rates would increase business      opportunity for these clients\n",
    "2. 88% of the clients who have been previously refused a loan has payed back the loan in current case."
   ]
  },
  {
   "cell_type": "code",
   "execution_count": null,
   "id": "2d0fa65d",
   "metadata": {},
   "outputs": [],
   "source": [
    "from plotly.subplots import make_subplots\n",
    "import plotly.graph_objects as go\n",
    "def biplot(df,feature,title):\n",
    "    temp = df[feature].value_counts()\n",
    "    \n",
    "    # Calculate the percentage of target=1 per category value\n",
    "    perc = df[[feature, 'TARGET']].groupby([feature],as_index=False).mean()\n",
    "    perc.sort_values(by='TARGET', ascending=False, inplace=True)\n",
    "\n",
    "    fig = make_subplots(rows=1, cols=2,subplot_titles=(\"Count of \"+ title,\"% of Loan Payment difficulties within each category\"))\n",
    "\n",
    "    fig.add_trace(go.Bar(x=temp.index, y=temp.values),row=1, col=1)\n",
    "    fig.add_trace(go.Bar(x=perc[feature].to_list(), y=perc['TARGET'].to_list()),row=1, col=2)\n",
    "    fig['layout']['xaxis']['title']=feature\n",
    "    fig['layout']['xaxis2']['title']=feature\n",
    "    fig['layout']['yaxis']['title']='Count'\n",
    "    fig['layout']['yaxis2']['title']='% of Loan Payment Difficulties'\n",
    "    fig.update_layout(height=600, width=1000, title_text=title, showlegend=False)\n",
    "    fig.show()"
   ]
  },
  {
   "cell_type": "code",
   "execution_count": null,
   "id": "b281b299",
   "metadata": {
    "scrolled": true
   },
   "outputs": [],
   "source": [
    "# Distribution of Contract Status and its category with maximum % of Loan-Payment Difficulties\n",
    "biplot(loanapp,'NAME_CONTRACT_STATUS', 'CONTRACT STATUS')"
   ]
  },
  {
   "cell_type": "markdown",
   "id": "01eaac1e",
   "metadata": {},
   "source": [
    "**INSIGHTS**\n",
    "\n",
    "From the first graph it can be seen that most of the contract type from previous application was 'Cash loans'\n",
    "It can be clearly seen from the second graph that the\n",
    "\n",
    "1. 'Revolving Loans' contracts from previous application are the ones who have maximum % of Loan-Payment Difficulties from current application.\n",
    "2. 'Consumer loans' contracts from previous application are the ones who have minimum % of Loan-Payment Difficulties from current application."
   ]
  },
  {
   "cell_type": "code",
   "execution_count": null,
   "id": "f82e7d05",
   "metadata": {},
   "outputs": [],
   "source": [
    "# Distribution of Payment Type and its category with maximum % of Loan-Payment Difficulties\n",
    "biplot(loanapp,'NAME_PAYMENT_TYPE', 'PAYMENT TYPE')"
   ]
  },
  {
   "cell_type": "markdown",
   "id": "e70d7953",
   "metadata": {},
   "source": [
    "**INSIGHTS**\n",
    "\n",
    "From the first graph it can be seen that most of the payment type from previous application was 'Cash through bank'.\n",
    "It can be clearly seen from the second graph that all three types of payments from the previous application have almost same % of Loan-Payment Difficulties from current application"
   ]
  },
  {
   "cell_type": "code",
   "execution_count": null,
   "id": "632c22fd",
   "metadata": {},
   "outputs": [],
   "source": [
    "# Distribution of Cash Loan Purpose and its category with maximum % of Loan-Payment Difficulties \n",
    "biplot(loanapp,'NAME_CASH_LOAN_PURPOSE', 'CASH LOAN PURPOSE')"
   ]
  },
  {
   "cell_type": "markdown",
   "id": "21ec5062",
   "metadata": {},
   "source": [
    "**INSIGHTS**\n",
    "\n",
    "From the first graph it can be seen that purpose of cash loan from previous data was maximum for 'Repairs'\n",
    "\n",
    "It can be clearly seen from the second graph that the 'Refusal to name the goal' for cash loan from previous application are the ones who have maximum % of Loan-Payment Difficulties from current application."
   ]
  },
  {
   "cell_type": "code",
   "execution_count": null,
   "id": "9c395f30",
   "metadata": {},
   "outputs": [],
   "source": [
    "# Distribution of Client Type and its category with maximum % of Loan-Payment Difficulties \n",
    "biplot(loanapp,'NAME_CLIENT_TYPE', 'CLIENT TYPE')"
   ]
  },
  {
   "cell_type": "markdown",
   "id": "198679bb",
   "metadata": {},
   "source": [
    "**INSIGHT**\n",
    "\n",
    "From the first graph it can be seen that most of the clients from previous application are 'Repeater'\n",
    "\n",
    "It can be clearly seen from the second graph that the\n",
    "\n",
    "1. 'New' clients from previous application are the ones who have maximum % of Loan-Payment Difficulties from current application.\n",
    "2. 'Refreshed' clients from previous application are the ones who have minimum % of Loan-Payment Difficulties from current application."
   ]
  },
  {
   "cell_type": "code",
   "execution_count": null,
   "id": "907f38a3",
   "metadata": {},
   "outputs": [],
   "source": [
    "table1 = pd.pivot_table(loanapp, values='TARGET', index=['NAME_CLIENT_TYPE'],columns=['NAME_CONTRACT_STATUS'], aggfunc=np.mean)\n",
    "table1"
   ]
  },
  {
   "cell_type": "code",
   "execution_count": null,
   "id": "3aa9316c",
   "metadata": {},
   "outputs": [],
   "source": [
    "plt.figure(figsize= (21,10))\n",
    "ax = table1.T.plot(kind='bar')\n",
    "ylab = ax.set_ylabel('% of Loan-Payment Difficulties')\n",
    "plt.title('% of Loan Payment Difficulties for NAME_CONTRACT_STATUS and NAME_CLIENT_TYPE', fontdict={'fontsize':15})\n",
    "plt.legend(loc='upper left', bbox_to_anchor =(1,1,0.5,0))\n",
    "plt.show()"
   ]
  },
  {
   "cell_type": "markdown",
   "id": "e57344c2",
   "metadata": {},
   "source": [
    "**INSIGHTS**\n",
    "\n",
    "It can be observed from the above graph that Client who where 'New' and had 'Cancelled' previous application tend to have more % of Loan-Payment Difficulties in current application"
   ]
  },
  {
   "cell_type": "code",
   "execution_count": null,
   "id": "02d89467",
   "metadata": {},
   "outputs": [],
   "source": [
    "table2 = pd.pivot_table(loanapp, values='TARGET', index=['NAME_CONTRACT_TYPE_y'],columns=['NAME_CONTRACT_STATUS'], aggfunc=np.mean)\n",
    "table2"
   ]
  },
  {
   "cell_type": "code",
   "execution_count": null,
   "id": "32fce4e0",
   "metadata": {},
   "outputs": [],
   "source": [
    "plt.figure(figsize= (10,8))\n",
    "ax = table2.T.plot(kind='bar')\n",
    "ylab = ax.set_ylabel('% of Loan-Payment Difficulties')\n",
    "plt.title('% of Loan Payment Difficulties for NAME_CONTRACT_STATUS and NAME_CONTRACT_TYPE', fontdict={'fontsize':15})\n",
    "plt.legend(loc='upper left', bbox_to_anchor =(1,1,0.5,0))\n",
    "plt.show()"
   ]
  },
  {
   "cell_type": "markdown",
   "id": "57e94184",
   "metadata": {},
   "source": [
    "**INSIGHTS**\n",
    "\n",
    "It can be observed from the above graph that maximum loans were Refused and lesser loans were approved. It is observed that ‘Revolving Loans’ have the highest average % of loan-payment difficulties."
   ]
  },
  {
   "cell_type": "code",
   "execution_count": null,
   "id": "bbc6e4a6",
   "metadata": {},
   "outputs": [],
   "source": [
    "# Function to plot point plots \n",
    "def pointplot(df,hue,x,y):\n",
    "    plt.figure(figsize=(12,6))\n",
    "    sns.pointplot(x=x, y=y, hue=hue, data=df,palette='mako')\n",
    "    plt.title(x+\" VS \"+y,fontsize = 15)"
   ]
  },
  {
   "cell_type": "code",
   "execution_count": null,
   "id": "f2738ca1",
   "metadata": {},
   "outputs": [],
   "source": [
    "# plotting the relationship between income total and contact status\n",
    "pointplot(loanapp,\"TARGET\",\"NAME_CONTRACT_STATUS\",'AMT_INCOME_TOTAL')"
   ]
  },
  {
   "cell_type": "code",
   "execution_count": null,
   "id": "6a5bc0aa",
   "metadata": {},
   "outputs": [],
   "source": [
    "# plotting the relationship between people who defaulted in last 60 days being in client's social circle and contact status\n",
    "pointplot(loanapp,\"TARGET\",\"NAME_CONTRACT_STATUS\",'DEF_60_CNT_SOCIAL_CIRCLE')"
   ]
  },
  {
   "cell_type": "markdown",
   "id": "22807726",
   "metadata": {},
   "source": [
    "# Conclusion"
   ]
  },
  {
   "cell_type": "markdown",
   "id": "3b3ad47e",
   "metadata": {},
   "source": [
    "After analysing the datasets, there are few attributes of a client with which the bank would be able to identify if they will repay the loan or not. The analysis is consised as below with the contributing factors and categorization:\n",
    "\n",
    "### A. Decisive Factor whether an applicant will be Repayer:\n",
    "\n",
    "1. NAME_EDUCATION_TYPE: Academic degree has less defaults.\n",
    "2. NAME_INCOME_TYPE: Student and Businessmen have no defaults.\n",
    "3. REGION_RATING_CLIENT: RATING 1 is safer.\n",
    "4. ORGANIZATION_TYPE: Clients with Trade Type 4 and 5 and Industry type 8 have defaulted less than 3%\n",
    "5. DAYS_BIRTH: People above age of 50 have low probability of defaulting\n",
    "6. DAYS_EMPLOYED: Clients with 40+ year experience having less than 1% default rate\n",
    "7. AMT_INCOME_TOTAL:Applicant with Income more than 700,000 are less likely to default\n",
    "8. NAME_CASH_LOAN_PURPOSE: Loans bought for Hobby, Buying garage are being repayed mostly.\n",
    "9. CNT_CHILDREN: People with zero to two children tend to repay the loans."
   ]
  },
  {
   "cell_type": "markdown",
   "id": "ba4360e5",
   "metadata": {},
   "source": [
    "### B. Decisive Factor whether an applicant will be Defaulter:\n",
    "    \n",
    "1. CODE_GENDER: Men are at relatively higher default rate\n",
    "2. NAME_FAMILY_STATUS : People who have civil marriage or who are single default a lot.\n",
    "3. NAME_EDUCATION_TYPE: People with Lower Secondary and Secondary education\n",
    "4. NAME_INCOME_TYPE: Clients who are either at Maternity leave OR Unemployed default a lot.\n",
    "5. REGION_RATING_CLIENT: People who live in Rating 3 has highest defaults.\n",
    "6. OCCUPATION_TYPE: Avoid Low-skill Laborers, Drivers and Waiters/barmen staff, Security staff, Laborers and Cooking staff as their default rate is huge.\n",
    "7. ORGANIZATION_TYPE: Organizations with highest percent of loans not repaid are Transport: type 3 (16%), Industry: type 13 (13.5%), Industry: type 8 (12.5%) and Restaurant (less than 12%). Self-employed people have relative high defaulting rate, and thus should be avoided to be approved for loan or provide loan with higher interest rate to mitigate the risk of defaulting.\n",
    "8. DAYS_BIRTH: Avoid young people who are in age group of 20-40 as they have higher probability of defaulting\n",
    "9. DAYS_EMPLOYED: People who have less than 5 years of employment have high default rate.\n",
    "10. CNT_CHILDREN & CNT_FAM_MEMBERS: Client who have children equal to or more than 9 default 100% and hence their applications are to be rejected.\n",
    "11. AMT_GOODS_PRICE: When the credit amount goes beyond 3lakhs, there is an increase in defaulters."
   ]
  },
  {
   "cell_type": "markdown",
   "id": "ea0ee140",
   "metadata": {},
   "source": [
    "### C. Factors that Loan can be given on Condition of High Interest rate to mitigate any default risk leading to business loss:\n",
    "\n",
    "1. NAME_HOUSING_TYPE: High number of loan applications are from the category of people who live in Rented apartments & living with parents and hence offering the loan would mitigate the loss if any of those default.\n",
    "2. AMT_CREDIT: People who get loan for 3-6 Lakhs tend to default more than others and hence having higher interest specifically for this credit range would be ideal.\n",
    "3. AMT_INCOME: Since 90% of the applications have Income total less than 3Lakhs and they have high probability of defaulting, they could be offered loan with higher interest compared to other income category.\n",
    "4. CNT_CHILDREN & CNT_FAM_MEMBERS: Clients who have 4 to 8 children has a very high default rate and hence higher interest should be imposed on their loans.\n",
    "5. NAME_CASH_LOAN_PURPOSE: Loan taken for the purpose of Repairs seems to have highest default rate. A very high number applications have been rejected by bank or refused by client in previous applications as well which has purpose as repair or other. This shows that purpose repair is taken as high risk by bank and either they are rejected, or bank offers very high loan interest rate which is not feasible by the clients, thus they refuse the loan. The same approach could be followed in future as well."
   ]
  },
  {
   "cell_type": "code",
   "execution_count": null,
   "id": "da7feb6b",
   "metadata": {},
   "outputs": [],
   "source": []
  }
 ],
 "metadata": {
  "kernelspec": {
   "display_name": "Python 3",
   "language": "python",
   "name": "python3"
  },
  "language_info": {
   "codemirror_mode": {
    "name": "ipython",
    "version": 3
   },
   "file_extension": ".py",
   "mimetype": "text/x-python",
   "name": "python",
   "nbconvert_exporter": "python",
   "pygments_lexer": "ipython3",
   "version": "3.8.8"
  }
 },
 "nbformat": 4,
 "nbformat_minor": 5
}
